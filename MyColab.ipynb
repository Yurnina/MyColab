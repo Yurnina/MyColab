{
 "cells": [
  {
   "cell_type": "markdown",
   "metadata": {
    "id": "myColab00"
   },
   "source": [
    "# Hello world\n"
   ]
  },
  {
   "cell_type": "markdown",
   "metadata": {
    "id": "myColab01"
   },
   "source": [
    "## View GPU\n"
   ]
  },
  {
   "cell_type": "code",
   "execution_count": null,
   "metadata": {
    "id": "myColabChild01"
   },
   "outputs": [],
   "source": [
    "!nvidia-smi"
   ]
  },
  {
   "cell_type": "markdown",
   "metadata": {
    "id": "myColab02"
   },
   "source": [
    "## Install Main"
   ]
  },
  {
   "cell_type": "code",
   "execution_count": null,
   "metadata": {
    "cellView": "form",
    "id": "myColabChild02"
   },
   "outputs": [],
   "source": [
    "#@title Install or update MyColab from Github\n",
    "\n",
    "Mode = \"install\" #@param [\"install\", \"update\"]\n",
    "\n",
    "from pathlib import Path\n",
    "if (Mode == \"install\"):\n",
    "  !git clone https://github.com/Yurnina/MyColab.git\n",
    "  %cd \"/content\"\n",
    "\n",
    "  # fix linux warning\n",
    "  # /usr/lib/python3.6/multiprocessing/semaphore_tracker.py:143: UserWarning: semaphore_tracker: There appear to be 1 leaked semaphores to clean up at shutdown\n",
    "  fin = open(\"/usr/lib/python3.6/multiprocessing/semaphore_tracker.py\", \"rt\")\n",
    "  data = fin.read()\n",
    "  data = data.replace('if cache:', 'if False:')\n",
    "  fin.close()\n",
    "\n",
    "  fin = open(\"/usr/lib/python3.6/multiprocessing/semaphore_tracker.py\", \"wt\")\n",
    "  fin.write(data)\n",
    "  fin.close()\n",
    "else:\n",
    "  %cd /content/MyColab\n",
    "  !git pull\n",
    "\n",
    "!pip uninstall -y tensorflow\n",
    "!pip install -r /content/MyColab/requirements.txt\n",
    "!apt-get install cuda-10-0\n",
    "\n",
    "if not Path(\"/content/workspace\").exists():\n",
    "  !mkdir /content/workspace; mkdir /content/workspace/data_src; mkdir /content/workspace/data_src/aligned; mkdir /content/workspace/data_dst; mkdir /content/workspace/data_dst/aligned; mkdir /content/workspace/model  \n",
    "\n",
    "import IPython\n",
    "from google.colab import output\n",
    "\n",
    "print(\"\\nDone!\")"
   ]
  },
  {
   "cell_type": "markdown",
   "metadata": {
    "id": "myColab03"
   },
   "source": [
    "## Import/Export\n",
    "\n"
   ]
  },
  {
   "cell_type": "code",
   "execution_count": null,
   "metadata": {
    "cellView": "form",
    "id": "myColabChild03"
   },
   "outputs": [],
   "source": [
    "#@title Import Drive\n",
    "\n",
    "Mode = \"workspace\" #@param [\"workspace\", \"data_src\", \"data_dst\", \"data_src aligned\", \"data_dst aligned\", \"models\"]\n",
    "Archive_name = \"workspace.zip\" #@param {type:\"string\"}\n",
    "\n",
    "#Mount Google Drive as folder\n",
    "from google.colab import drive\n",
    "drive.mount('/content/drive', force_remount=True)\n",
    "\n",
    "def zip_and_copy(path, mode):\n",
    "  unzip_cmd=\" -q \"+Archive_name\n",
    "  \n",
    "  %cd $path\n",
    "  copy_cmd = \"/content/drive/My\\ Drive/\"+Archive_name+\" \"+path\n",
    "  !cp $copy_cmd\n",
    "  !unzip $unzip_cmd    \n",
    "  !rm $Archive_name\n",
    "\n",
    "if Mode == \"workspace\":\n",
    "  zip_and_copy(\"/content\", \"workspace\")\n",
    "elif Mode == \"data_src\":\n",
    "  zip_and_copy(\"/content/workspace\", \"data_src\")\n",
    "elif Mode == \"data_dst\":\n",
    "  zip_and_copy(\"/content/workspace\", \"data_dst\")\n",
    "elif Mode == \"data_src aligned\":\n",
    "  zip_and_copy(\"/content/workspace/data_src\", \"aligned\")\n",
    "elif Mode == \"data_dst aligned\":\n",
    "  zip_and_copy(\"/content/workspace/data_dst\", \"aligned\")\n",
    "elif Mode == \"models\":\n",
    "  zip_and_copy(\"/content/workspace\", \"model\")\n",
    "  \n",
    "print(\"Done!\")\n",
    "\n"
   ]
  },
  {
   "cell_type": "code",
   "execution_count": null,
   "metadata": {
    "cellView": "form",
    "id": "myColabChild04"
   },
   "outputs": [],
   "source": [
    "#@title Export Drive { form-width: \"30%\" }\n",
    "Mode = \"workspace\" #@param [\"workspace\", \"data_src\", \"data_dst\", \"data_src aligned\", \"data_dst aligned\", \"merged\", \"merged_mask\", \"models\", \"result video\", \"result_mask video\"]\n",
    "Archive_name = \"workspace.zip\" #@param {type:\"string\"}\n",
    "\n",
    "#Mount Google Drive as folder\n",
    "from google.colab import drive\n",
    "drive.mount('/content/drive', force_remount=True)\n",
    "\n",
    "def zip_and_copy(path, mode):\n",
    "  zip_cmd=\"-r -q \"+Archive_name+\" \"\n",
    "  \n",
    "  %cd $path\n",
    "  zip_cmd+=mode\n",
    "  !zip $zip_cmd\n",
    "  copy_cmd = \" \"+Archive_name+\"  /content/drive/My\\ Drive/\"\n",
    "  !cp $copy_cmd\n",
    "  !rm $Archive_name\n",
    "\n",
    "if Mode == \"workspace\":\n",
    "  zip_and_copy(\"/content\", \"workspace\")\n",
    "elif Mode == \"data_src\":\n",
    "  zip_and_copy(\"/content/workspace\", \"data_src\")\n",
    "elif Mode == \"data_dst\":\n",
    "  zip_and_copy(\"/content/workspace\", \"data_dst\")\n",
    "elif Mode == \"data_src aligned\":\n",
    "  zip_and_copy(\"/content/workspace/data_src\", \"aligned\")\n",
    "elif Mode == \"data_dst aligned\":\n",
    "  zip_and_copy(\"/content/workspace/data_dst\", \"aligned\")\n",
    "elif Mode == \"merged\":\n",
    "  zip_and_copy(\"/content/workspace/data_dst\", \"merged\")\n",
    "elif Mode == \"merged_mask\":\n",
    "  zip_and_copy(\"/content/workspace/data_dst\", \"merged_mask\")\n",
    "elif Mode == \"models\":\n",
    "  zip_and_copy(\"/content/workspace\", \"model\")\n",
    "elif Mode == \"result video\":\n",
    "  !cp /content/workspace/result.mp4 /content/drive/My\\ Drive/\n",
    "elif Mode == \"result_mask video\":\n",
    "  !cp /content/workspace/result_mask.mp4 /content/drive/My\\ Drive/\n",
    "  \n",
    "print(\"Done!\")\n"
   ]
  },
  {
   "cell_type": "code",
   "execution_count": null,
   "metadata": {
    "cellView": "form",
    "id": "myColabChild05"
   },
   "outputs": [],
   "source": [
    "#@title Delete All and Recreate workspace\n",
    "Mode = \"Delete and recreate workspace\" #@param [\"Delete and recreate workspace\", \"Delete models\", \"Delete data_src\", \"Delete data_src aligned\", \"Delete data_src video\", \"Delete data_dst\", \"Delete data_dst aligned\", \"Delete merged frames\"]\n",
    "\n",
    "%cd \"/content\" \n",
    "\n",
    "if Mode == \"Delete and recreate workspace\":\n",
    "  cmd = \"rm -r /content/workspace ; mkdir /content/workspace; mkdir /content/workspace/data_src; mkdir /content/workspace/data_src/aligned; mkdir /content/workspace/data_dst; mkdir /content/workspace/data_dst/aligned; mkdir /content/workspace/model\"  \n",
    "elif Mode == \"Delete models\":\n",
    "  cmd = \"rm -r /content/workspace/model/*\"\n",
    "elif Mode == \"Delete data_src\":\n",
    "  cmd = \"rm /content/workspace/data_src/*.png || rm -r /content/workspace/data_src/*.jpg\"\n",
    "elif Mode == \"Delete data_src aligned\":\n",
    "  cmd = \"rm -r /content/workspace/data_src/aligned/*\"\n",
    "elif Mode == \"Delete data_src video\":\n",
    "  cmd = \"rm -r /content/workspace/data_src.*\"\n",
    "elif Mode == \"Delete data_dst\":\n",
    "  cmd = \"rm /content/workspace/data_dst/*.png || rm /content/workspace/data_dst/*.jpg\"\n",
    "elif Mode == \"Delete data_dst aligned\":\n",
    "  cmd = \"rm -r /content/workspace/data_dst/aligned/*\"\n",
    "elif Mode == \"Delete merged frames\":\n",
    "  cmd = \"rm -r /content/workspace/data_dst/merged; rm -r /content/workspace/data_dst/merged_mask\"\n",
    "  \n",
    "!$cmd\n",
    "print(\"Done!\")"
   ]
  },
  {
   "cell_type": "markdown",
   "metadata": {
    "id": "myColab04"
   },
   "source": [
    "## Get And Edit Data"
   ]
  },
  {
   "cell_type": "code",
   "execution_count": null,
   "metadata": {
    "cellView": "form",
    "id": "myColabChild06"
   },
   "outputs": [],
   "source": [
    "#@title Get data_dst\n",
    "data_dst_zip = \"aaaa.zip\" #@param {type:\"string\"}\n",
    "data_dst_mp4 = \"bbb.mp4\" #@param {type:\"string\"}\n",
    "!rm -rf \"/content/workspace/data_dst/\"\n",
    "print(\"Folder data_dst deleted!\")\n",
    "!rm -rf \"/content/workspace/data_dst.mp4\"\n",
    "print(\"File data_dst.mp4 deleted!\")\n",
    "from google.colab import drive\n",
    "drive.mount('/content/drive', force_remount=True)\n",
    "copy_cmd = \" /content/drive/My\\ Drive/\"+data_dst_zip+\" /content/workspace/\"\n",
    "copy_cmd01 = \" /content/drive/My\\ Drive/\"+data_dst_mp4+\" /content/workspace/data_dst.mp4\"\n",
    "unzip_cmd = \" -q /content/workspace/\"+data_dst_zip\n",
    "!cp $copy_cmd\n",
    "print(\"Copy \"+data_dst_zip+\" successful!\")\n",
    "!cp $copy_cmd01\n",
    "print(\"Copy \"+data_dst_mp4+\" successful!\")\n",
    "%cd \"/content/workspace/\"\n",
    "print(\"Cd into /content/workspace/\")\n",
    "!unzip $unzip_cmd\n",
    "print(\"extract ZIP file successful in /content/workspace/\")\n",
    "!rm \"/content/workspace/\"$data_dst_zip\n",
    "print(\"done!!!\")"
   ]
  },
  {
   "cell_type": "code",
   "execution_count": null,
   "metadata": {
    "cellView": "form",
    "id": "myColabChild07"
   },
   "outputs": [],
   "source": [
    "#@title Get data_src\n",
    "data_src_zip = \"aaaa.zip\" #@param {type:\"string\"}\n",
    "!rm -rf \"/content/workspace/data_src/\"\n",
    "print(\"Folder data_src deleted!\")\n",
    "from google.colab import drive\n",
    "drive.mount('/content/drive', force_remount=True)\n",
    "copy_cmd = \" /content/drive/My\\ Drive/\"+data_src_zip+\" /content/workspace/\"\n",
    "unzip_cmd = \" -q /content/workspace/\"+data_src_zip\n",
    "!cp $copy_cmd\n",
    "print(\"Copy \"+data_src_zip+\" successful!\")\n",
    "%cd \"/content/workspace/\"\n",
    "print(\"Cd into /content/workspace/\")\n",
    "!unzip $unzip_cmd\n",
    "print(\"extract ZIP file successful in /content/workspace/\")\n",
    "!rm \"/content/workspace/\"$data_src_zip\n",
    "print(\"done!!!\")"
   ]
  },
  {
   "cell_type": "code",
   "execution_count": null,
   "metadata": {
    "cellView": "form",
    "id": "myColabChild08"
   },
   "outputs": [],
   "source": [
    "#@title Get model\n",
    "model_file = \"model-20210531T122452Z-001.zip\" #@param {type:\"string\"}\n",
    "#!rm -rf \"/content/workspace/model/\"\n",
    "#print(\"Folder model deleted!\")\n",
    "from google.colab import drive\n",
    "drive.mount('/content/drive', force_remount=True)\n",
    "copy_cmd = \" /content/drive/My\\ Drive/\"+model_file+\" /content/workspace/\"\n",
    "unzip_cmd = \" -q /content/workspace/\"+model_file\n",
    "!cp $copy_cmd\n",
    "print(\"Copy \"+model_file+\" successful!\")\n",
    "%cd \"/content/workspace/\"\n",
    "print(\"Cd into /content/workspace/\")\n",
    "!unzip $unzip_cmd\n",
    "print(\"unzip successful in /content/workspace/\")\n",
    "!rm \"/content/workspace/\"$model_file\n",
    "print(\"done!!!\")"
   ]
  },
  {
   "cell_type": "markdown",
   "metadata": {
    "id": "myColab05"
   },
   "source": [
    "## Extract\n"
   ]
  },
  {
   "cell_type": "code",
   "execution_count": null,
   "metadata": {
    "cellView": "form",
    "id": "myColabChild09"
   },
   "outputs": [],
   "source": [
    "#@title Extract\n",
    "Video = \"data_src\" #@param [\"data_src\", \"data_dst\"]\n",
    "\n",
    "%cd \"/content\"\n",
    "\n",
    "cmd = \"MyColab/main.py videoed extract-video\"\n",
    "\n",
    "if Video == \"data_dst\":\n",
    "  cmd+= \" --input-file workspace/data_dst.* --output-dir workspace/data_dst/ --fps 0 --output-ext jpg \"\n",
    "else:\n",
    "  cmd+= \" --input-file workspace/data_src.* --output-dir workspace/data_src/\"\n",
    "  \n",
    "!python $cmd"
   ]
  },
  {
   "cell_type": "code",
   "execution_count": null,
   "metadata": {
    "cellView": "form",
    "id": "myColabChild10"
   },
   "outputs": [],
   "source": [
    "#@title Detect faces\n",
    "Data = \"data_src\" #@param [\"data_src\", \"data_dst\"]\n",
    "Detector = \"S3FD (whole face)\" #@param [\"S3FD\", \"S3FD (whole face)\"]\n",
    "Debug = False #@param {type:\"boolean\"}\n",
    "\n",
    "detect_type = \"s3fd\"\n",
    "dbg = \" --output-debug\" if Debug else \" --no-output-debug\"\n",
    "\n",
    "folder = \"workspace/\"+Data\n",
    "folder_aligned = folder+\"/aligned\"\n",
    "\n",
    "cmd = \"MyColab/main.py extract --input-dir \"+folder+\" --output-dir \"+folder_aligned\n",
    "cmd+=\" --detector \"+detect_type+\" --force-gpu-idxs 0\"+dbg\n",
    "\n",
    "if \"whole face\" in Detector:\n",
    "  cmd+=\" --face-type whole_face\" \n",
    "else:\n",
    "  cmd+=\" --face-type full_face\" \n",
    "cmd+=\" --max-faces-from-image 0 --image-size 512 --jpeg-quality 100\" \n",
    "%cd \"/content\"\n",
    "!python $cmd"
   ]
  },
  {
   "cell_type": "code",
   "execution_count": null,
   "metadata": {
    "cellView": "form",
    "id": "myColabChild11"
   },
   "outputs": [],
   "source": [
    "#@title Pack/Unpack aligned faceset\n",
    "\n",
    "Folder = \"data_src\" #@param [\"data_src\", \"data_dst\"]\n",
    "Mode = \"unpack\" #@param [\"pack\", \"unpack\"]\n",
    "\n",
    "cmd = \"/content/MyColab/main.py util --input-dir /content/workspace/\" + \\\n",
    "      f\"{Folder}/aligned --{Mode}-faceset\"\n",
    "\n",
    "!python $cmd"
   ]
  },
  {
   "cell_type": "code",
   "execution_count": null,
   "metadata": {
    "cellView": "form",
    "id": "myColabChild12"
   },
   "outputs": [],
   "source": [
    "#@title Apply or remove MatNa mask to the faces\n",
    "Mode = \"Apply mask\" #@param [\"Apply mask\", \"Remove mask\"]\n",
    "Data = \"data_src\" #@param [\"data_src\", \"data_dst\"]\n",
    "\n",
    "from pathlib import Path\n",
    "mode_arg = 'apply' if Mode == \"Apply mask\" else 'remove'\n",
    "\n",
    "main_path = '/content/MyColab/main.py'\n",
    "data_path = f'/content/workspace/{Data}/aligned'\n",
    "model_path = '/content/workspace/model'\n",
    "\n",
    "cmd = f'{main_path} matna {mode_arg} --input-dir {data_path} '\n",
    "cmd += f'--model-dir {model_path}' if mode_arg == 'apply' else ''\n",
    "\n",
    "!python $cmd"
   ]
  },
  {
   "cell_type": "markdown",
   "metadata": {
    "id": "myColab06"
   },
   "source": [
    "## Train"
   ]
  },
  {
   "cell_type": "code",
   "execution_count": null,
   "metadata": {
    "cellView": "form",
    "id": "myColabChild13"
   },
   "outputs": [],
   "source": [
    "#@title Training\n",
    "Model = \"SAEHD\" #@param [\"SAEHD\", \"AMP\", \"Quick96\", \"MatNa\"]\n",
    "Backup_every_hour = True #@param {type:\"boolean\"}\n",
    "Silent_Start = True #@param {type:\"boolean\"}\n",
    "\n",
    "%cd \"/content\"\n",
    "\n",
    "#Mount Google Drive as folder\n",
    "from google.colab import drive\n",
    "drive.mount('/content/drive')\n",
    "\n",
    "import psutil, os, time\n",
    "\n",
    "p = psutil.Process(os.getpid())\n",
    "uptime = time.time() - p.create_time()\n",
    "\n",
    "if (Backup_every_hour):\n",
    "  print(\"Time to end session: \"+str(round((43200-uptime)/3600))+\" hours\")\n",
    "  backup_time = str(3600)\n",
    "  backup_cmd = \" --execute-program -\"+backup_time+\" \\\"import os; os.system('zip -r -q workspace.zip workspace/model'); os.system('cp /content/workspace.zip /content/drive/My\\ Drive/'); print('Backed up!') \\\"\" \n",
    "elif (round(39600-uptime) > 0):\n",
    "  print(\"Time to backup: \"+str(round((39600-uptime)/3600))+\" hours\")\n",
    "  backup_time = str(round(39600-uptime))\n",
    "  backup_cmd = \" --execute-program \"+backup_time+\" \\\"import os; os.system('zip -r -q workspace.zip workspace'); os.system('cp /content/workspace.zip /content/drive/My\\ Drive/'); print('Backed up!') \\\"\" \n",
    "else:\n",
    "  print(\"Session expires in less than an hour.\")\n",
    "  backup_cmd = \"\"\n",
    "    \n",
    "cmd = \"MyColab/main.py train --training-data-src-dir workspace/data_src/aligned --training-data-dst-dir workspace/data_dst/aligned --pretraining-data-dir pretrain --model-dir workspace/model --model \"+Model\n",
    "\n",
    "if Model == \"Quick96\":\n",
    "  cmd+= \" --pretrained-model-dir pretrain_Q96\"\n",
    "\n",
    "if Silent_Start:\n",
    "  cmd+= \" --silent-start\"\n",
    "\n",
    "if (backup_cmd != \"\"):\n",
    "  train_cmd = (cmd+backup_cmd)\n",
    "else:\n",
    "  train_cmd = (cmd)\n",
    "\n",
    "!python $train_cmd"
   ]
  }
 ],
 "metadata": {
  "accelerator": "GPU",
  "colab": {
   "collapsed_sections": [
    "myColab01",
    "myColab02",
    "myColab03",
    "myColab04",
    "myColab05",
    "myColab06"
   ],
   "machine_shape": "hm",
   "name": "myColab.ipynb",
   "provenance": []
  },
  "kernelspec": {
   "display_name": "Python 3 (ipykernel)",
   "language": "python",
   "name": "python3"
  },
  "language_info": {
   "codemirror_mode": {
    "name": "ipython",
    "version": 3
   },
   "file_extension": ".py",
   "mimetype": "text/x-python",
   "name": "python",
   "nbconvert_exporter": "python",
   "pygments_lexer": "ipython3",
   "version": "3.8.0"
  }
 },
 "nbformat": 4,
 "nbformat_minor": 1
}
